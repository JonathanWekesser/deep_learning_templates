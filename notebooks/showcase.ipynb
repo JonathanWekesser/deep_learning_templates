{
 "cells": [
  {
   "cell_type": "markdown",
   "id": "cdf93fe3bd7ae415",
   "metadata": {},
   "source": [
    "# Showcase Notebook"
   ]
  },
  {
   "cell_type": "markdown",
   "id": "528230d12aafa594",
   "metadata": {},
   "source": [
    "## Check Jupyter"
   ]
  },
  {
   "cell_type": "code",
   "id": "c4b4da59ec194ac3",
   "metadata": {},
   "source": [
    "print(\"Your Jupyter Server is running.\")"
   ],
   "outputs": [],
   "execution_count": null
  },
  {
   "cell_type": "markdown",
   "id": "2bb261233a291341",
   "metadata": {},
   "source": [
    "## Check TensorFlow"
   ]
  },
  {
   "cell_type": "code",
   "id": "6eae2c3434889074",
   "metadata": {},
   "source": [
    "try:\n",
    "    import tensorflow as tf\n",
    "    print(\"TensorFlow version: \", tf.__version__)\n",
    "    gpus = tf.config.list_physical_devices('GPU')\n",
    "    print(\"Num GPUs Available: \", len(gpus))\n",
    "    if gpus:\n",
    "        print(\"GPU(s):\", gpus)\n",
    "        for gpu in gpus:\n",
    "            tf.config.experimental.set_memory_growth(gpu, True)\n",
    "    else:\n",
    "        print(\"No GPU detected for TensorFlow.\")\n",
    "except ImportError:\n",
    "    print(\"TensorFlow not installed in this environment.\")"
   ],
   "outputs": [],
   "execution_count": null
  },
  {
   "cell_type": "markdown",
   "id": "9ee468f317da2468",
   "metadata": {},
   "source": [
    "## Check PyTorch"
   ]
  },
  {
   "cell_type": "code",
   "id": "dc67ce9b1cace11e",
   "metadata": {},
   "source": [
    "try:\n",
    "    import torch\n",
    "    print(\"PyTorch version: \", torch.__version__)\n",
    "    cuda_available = torch.cuda.is_available()\n",
    "    print(\"Num GPUs Available: \", torch.cuda.device_count())\n",
    "    if cuda_available:\n",
    "        print(\"GPU(s): \", torch.cuda.get_device_name(0))\n",
    "except ImportError:\n",
    "    print(\"PyTorch not installed in this environment.\")"
   ],
   "outputs": [],
   "execution_count": null
  }
 ],
 "metadata": {
  "kernelspec": {
   "display_name": "Python 3 (ipykernel)",
   "language": "python",
   "name": "python3"
  },
  "language_info": {
   "codemirror_mode": {
    "name": "ipython",
    "version": 3
   },
   "file_extension": ".py",
   "mimetype": "text/x-python",
   "name": "python",
   "nbconvert_exporter": "python",
   "pygments_lexer": "ipython3",
   "version": "3.10.9"
  }
 },
 "nbformat": 4,
 "nbformat_minor": 5
}
